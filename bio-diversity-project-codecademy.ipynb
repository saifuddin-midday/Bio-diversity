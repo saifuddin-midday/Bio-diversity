{
 "cells": [
  {
   "cell_type": "markdown",
   "id": "af5c6947",
   "metadata": {
    "papermill": {
     "duration": 0.019463,
     "end_time": "2024-01-21T15:21:59.655636",
     "exception": false,
     "start_time": "2024-01-21T15:21:59.636173",
     "status": "completed"
    },
    "tags": []
   },
   "source": [
    "# Introduction\n",
    "\n",
    "This goal of this project is to analyze biodiversity data from the National Parks Service, particularly around various species observed in different national park locations.\n",
    "\n",
    "This project will scope, analyze, prepare, plot data, and seek to explain the findings from the analysis.\n",
    "\n",
    "Here are a few questions that this project has sought to answer:\n",
    "\n",
    "- What is the distribution of conservation status for species?\n",
    "- Are certain types of species more likely to be endangered?\n",
    "- Are the differences between species and their conservation status significant?\n",
    "- Which animal is most prevalent and what is their distribution amongst parks?\n",
    "\n",
    "#### **Data sources:**\n",
    "\n",
    "Both `Observations.csv` and `Species_info.csv` was provided by [Codecademy.com](https://www.codecademy.com).\n",
    "\n",
    "Note: The data for this project is *inspired* by real data, but is mostly fictional."
   ]
  },
  {
   "cell_type": "markdown",
   "id": "83961ceb",
   "metadata": {
    "papermill": {
     "duration": 0.018688,
     "end_time": "2024-01-21T15:21:59.694120",
     "exception": false,
     "start_time": "2024-01-21T15:21:59.675432",
     "status": "completed"
    },
    "tags": []
   },
   "source": [
    "### Scoping\n",
    "\n",
    "It's beneficial to create a project scope whenever a new project is being started. Four sections were created below to help guide the project's process and progress. The first section is the project goals, this section will define the high-level objectives and set the intentions for this project. The next section is the data, luckily in this project, data is already provided but still needs to be checked if project goals can be met with the available data. Thirdly, the analysis will have to be thought through, which include the methods and questions that are aligned with the project goals. Lastly, evaluation will help us build conclusions and findings from our analysis.\n",
    "\n",
    "### Project Goals\n",
    "\n",
    "In this project the perspective will be through a biodiversity analyst for the National Parks Service. The National Park Service wants to ensure the survival of at-risk species, to maintain the level of biodiversity within their parks. Therefore, the main objectives as an analyst will be understanding characteristics about the species and their conservations status, and those species and their relationship to the national parks. Some questions that are posed:\n",
    "\n",
    "- What is the distribution of conservation status for species?\n",
    "- Are certain types of species more likely to be endangered?\n",
    "- Are the differences between species and their conservation status significant?\n",
    "- Which animal is most prevalent and what is their distribution amongst parks?\n",
    "\n",
    "### Data\n",
    "\n",
    "This project has two data sets that came with the package. The first `csv` file has information about each species and another has observations of species with park locations. This data will be used to analyze the goals of the project. \n",
    "\n",
    "### Analysis\n",
    "\n",
    "In this section, descriptive statistics and data visualization techniques will be employed to understand the data better. Statistical inference will also be used to test if the observed values are statistically significant. Some of the key metrics that will be computed include: \n",
    "\n",
    "1. Distributions\n",
    "1. counts\n",
    "1. relationship between species\n",
    "1. conservation status of species\n",
    "1. observations of species in parks. \n",
    "\n",
    "### Evaluation\n",
    "\n",
    "Lastly, it's a good idea to revisit the goals and check if the output of the analysis corresponds to the questions first set to be answered (in the goals section). This section will also reflect on what has been learned through the process, and if any of the questions were unable to be answered. This could also include limitations or if any of the analysis could have been done using different methodologies."
   ]
  },
  {
   "cell_type": "markdown",
   "id": "c0b806bd",
   "metadata": {
    "papermill": {
     "duration": 0.018675,
     "end_time": "2024-01-21T15:21:59.733360",
     "exception": false,
     "start_time": "2024-01-21T15:21:59.714685",
     "status": "completed"
    },
    "tags": []
   },
   "source": [
    "## Import Python Modules\n",
    "\n",
    "First, import the primary modules that will be used in this project:"
   ]
  },
  {
   "cell_type": "code",
   "execution_count": 1,
   "id": "43870725",
   "metadata": {
    "execution": {
     "iopub.execute_input": "2024-01-21T15:21:59.774839Z",
     "iopub.status.busy": "2024-01-21T15:21:59.774118Z",
     "iopub.status.idle": "2024-01-21T15:22:01.846089Z",
     "shell.execute_reply": "2024-01-21T15:22:01.844700Z"
    },
    "papermill": {
     "duration": 2.09771,
     "end_time": "2024-01-21T15:22:01.850007",
     "exception": false,
     "start_time": "2024-01-21T15:21:59.752297",
     "status": "completed"
    },
    "tags": []
   },
   "outputs": [],
   "source": [
    "import pandas as pd\n",
    "import numpy as np\n",
    "\n",
    "from matplotlib import pyplot as plt\n",
    "import seaborn as sns\n",
    "\n",
    "%matplotlib inline"
   ]
  },
  {
   "cell_type": "markdown",
   "id": "50836948",
   "metadata": {
    "papermill": {
     "duration": 0.019183,
     "end_time": "2024-01-21T15:22:01.889100",
     "exception": false,
     "start_time": "2024-01-21T15:22:01.869917",
     "status": "completed"
    },
    "tags": []
   },
   "source": [
    "## Loading the Data"
   ]
  },
  {
   "cell_type": "markdown",
   "id": "5d0267b3",
   "metadata": {
    "papermill": {
     "duration": 0.019435,
     "end_time": "2024-01-21T15:22:01.928237",
     "exception": false,
     "start_time": "2024-01-21T15:22:01.908802",
     "status": "completed"
    },
    "tags": []
   },
   "source": [
    "To analyze the status of conservation of species and their observations in national parks, load the datasets into `DataFrames`. Once loaded as `DataFrames` the data can be explored and visualized with Python.\n",
    "\n",
    "In the next steps, `Observations.csv`  and `Species_info.csv` are read in as `DataFrames` called `observations` and `species` respectively. The newly created `DataFrames` are glimpsed with `.head()` to check its contents."
   ]
  },
  {
   "cell_type": "markdown",
   "id": "27ef3b9f",
   "metadata": {
    "papermill": {
     "duration": 0.02023,
     "end_time": "2024-01-21T15:22:01.968778",
     "exception": false,
     "start_time": "2024-01-21T15:22:01.948548",
     "status": "completed"
    },
    "tags": []
   },
   "source": [
    "### Species\n",
    "\n",
    "The `species_info.csv` contains information on the different species in the National Parks. The columns in the data set include:\n",
    "- **category** - The category of taxonomy for each species\n",
    "- **scientific_name** - The scientific name of each species\n",
    "- **common_names** - The common names of each species\n",
    "- **conservation_status** - The species conservation status"
   ]
  },
  {
   "cell_type": "code",
   "execution_count": 2,
   "id": "a6853f48",
   "metadata": {
    "execution": {
     "iopub.execute_input": "2024-01-21T15:22:02.010793Z",
     "iopub.status.busy": "2024-01-21T15:22:02.010023Z",
     "iopub.status.idle": "2024-01-21T15:22:02.083739Z",
     "shell.execute_reply": "2024-01-21T15:22:02.081882Z"
    },
    "papermill": {
     "duration": 0.098497,
     "end_time": "2024-01-21T15:22:02.086476",
     "exception": false,
     "start_time": "2024-01-21T15:22:01.987979",
     "status": "completed"
    },
    "tags": []
   },
   "outputs": [
    {
     "data": {
      "text/html": [
       "<div>\n",
       "<style scoped>\n",
       "    .dataframe tbody tr th:only-of-type {\n",
       "        vertical-align: middle;\n",
       "    }\n",
       "\n",
       "    .dataframe tbody tr th {\n",
       "        vertical-align: top;\n",
       "    }\n",
       "\n",
       "    .dataframe thead th {\n",
       "        text-align: right;\n",
       "    }\n",
       "</style>\n",
       "<table border=\"1\" class=\"dataframe\">\n",
       "  <thead>\n",
       "    <tr style=\"text-align: right;\">\n",
       "      <th></th>\n",
       "      <th>category</th>\n",
       "      <th>scientific_name</th>\n",
       "      <th>common_names</th>\n",
       "      <th>conservation_status</th>\n",
       "    </tr>\n",
       "  </thead>\n",
       "  <tbody>\n",
       "    <tr>\n",
       "      <th>0</th>\n",
       "      <td>Mammal</td>\n",
       "      <td>Clethrionomys gapperi gapperi</td>\n",
       "      <td>Gapper's Red-Backed Vole</td>\n",
       "      <td>NaN</td>\n",
       "    </tr>\n",
       "    <tr>\n",
       "      <th>1</th>\n",
       "      <td>Mammal</td>\n",
       "      <td>Bos bison</td>\n",
       "      <td>American Bison, Bison</td>\n",
       "      <td>NaN</td>\n",
       "    </tr>\n",
       "    <tr>\n",
       "      <th>2</th>\n",
       "      <td>Mammal</td>\n",
       "      <td>Bos taurus</td>\n",
       "      <td>Aurochs, Aurochs, Domestic Cattle (Feral), Dom...</td>\n",
       "      <td>NaN</td>\n",
       "    </tr>\n",
       "    <tr>\n",
       "      <th>3</th>\n",
       "      <td>Mammal</td>\n",
       "      <td>Ovis aries</td>\n",
       "      <td>Domestic Sheep, Mouflon, Red Sheep, Sheep (Feral)</td>\n",
       "      <td>NaN</td>\n",
       "    </tr>\n",
       "    <tr>\n",
       "      <th>4</th>\n",
       "      <td>Mammal</td>\n",
       "      <td>Cervus elaphus</td>\n",
       "      <td>Wapiti Or Elk</td>\n",
       "      <td>NaN</td>\n",
       "    </tr>\n",
       "  </tbody>\n",
       "</table>\n",
       "</div>"
      ],
      "text/plain": [
       "  category                scientific_name  \\\n",
       "0   Mammal  Clethrionomys gapperi gapperi   \n",
       "1   Mammal                      Bos bison   \n",
       "2   Mammal                     Bos taurus   \n",
       "3   Mammal                     Ovis aries   \n",
       "4   Mammal                 Cervus elaphus   \n",
       "\n",
       "                                        common_names conservation_status  \n",
       "0                           Gapper's Red-Backed Vole                 NaN  \n",
       "1                              American Bison, Bison                 NaN  \n",
       "2  Aurochs, Aurochs, Domestic Cattle (Feral), Dom...                 NaN  \n",
       "3  Domestic Sheep, Mouflon, Red Sheep, Sheep (Feral)                 NaN  \n",
       "4                                      Wapiti Or Elk                 NaN  "
      ]
     },
     "execution_count": 2,
     "metadata": {},
     "output_type": "execute_result"
    }
   ],
   "source": [
    "# Load the species_info.csv file with specified encoding\n",
    "species = pd.read_csv(\"/kaggle/input/csv-files/species_info.csv\", encoding=\"utf-8\")\n",
    "species.head()"
   ]
  },
  {
   "cell_type": "markdown",
   "id": "96e15c5e",
   "metadata": {
    "papermill": {
     "duration": 0.019744,
     "end_time": "2024-01-21T15:22:02.125824",
     "exception": false,
     "start_time": "2024-01-21T15:22:02.106080",
     "status": "completed"
    },
    "tags": []
   },
   "source": [
    "### Observations\n",
    "\n",
    "The `Observations.csv` contains information from recorded sightings of different species throughout the national parks in the past 7 days. The columns included are:\n",
    "\n",
    "- **scientific_name** - The scientific name of each species\n",
    "- **park_name** - The name of the national park\n",
    "- **observations** - The number of observations in the past 7 days"
   ]
  },
  {
   "cell_type": "code",
   "execution_count": 3,
   "id": "f52d13fa",
   "metadata": {
    "execution": {
     "iopub.execute_input": "2024-01-21T15:22:02.168646Z",
     "iopub.status.busy": "2024-01-21T15:22:02.167872Z",
     "iopub.status.idle": "2024-01-21T15:22:02.241933Z",
     "shell.execute_reply": "2024-01-21T15:22:02.240913Z"
    },
    "papermill": {
     "duration": 0.098738,
     "end_time": "2024-01-21T15:22:02.244931",
     "exception": false,
     "start_time": "2024-01-21T15:22:02.146193",
     "status": "completed"
    },
    "tags": []
   },
   "outputs": [
    {
     "data": {
      "text/html": [
       "<div>\n",
       "<style scoped>\n",
       "    .dataframe tbody tr th:only-of-type {\n",
       "        vertical-align: middle;\n",
       "    }\n",
       "\n",
       "    .dataframe tbody tr th {\n",
       "        vertical-align: top;\n",
       "    }\n",
       "\n",
       "    .dataframe thead th {\n",
       "        text-align: right;\n",
       "    }\n",
       "</style>\n",
       "<table border=\"1\" class=\"dataframe\">\n",
       "  <thead>\n",
       "    <tr style=\"text-align: right;\">\n",
       "      <th></th>\n",
       "      <th>scientific_name</th>\n",
       "      <th>park_name</th>\n",
       "      <th>observations</th>\n",
       "    </tr>\n",
       "  </thead>\n",
       "  <tbody>\n",
       "    <tr>\n",
       "      <th>0</th>\n",
       "      <td>Vicia benghalensis</td>\n",
       "      <td>Great Smoky Mountains National Park</td>\n",
       "      <td>68</td>\n",
       "    </tr>\n",
       "    <tr>\n",
       "      <th>1</th>\n",
       "      <td>Neovison vison</td>\n",
       "      <td>Great Smoky Mountains National Park</td>\n",
       "      <td>77</td>\n",
       "    </tr>\n",
       "    <tr>\n",
       "      <th>2</th>\n",
       "      <td>Prunus subcordata</td>\n",
       "      <td>Yosemite National Park</td>\n",
       "      <td>138</td>\n",
       "    </tr>\n",
       "    <tr>\n",
       "      <th>3</th>\n",
       "      <td>Abutilon theophrasti</td>\n",
       "      <td>Bryce National Park</td>\n",
       "      <td>84</td>\n",
       "    </tr>\n",
       "    <tr>\n",
       "      <th>4</th>\n",
       "      <td>Githopsis specularioides</td>\n",
       "      <td>Great Smoky Mountains National Park</td>\n",
       "      <td>85</td>\n",
       "    </tr>\n",
       "  </tbody>\n",
       "</table>\n",
       "</div>"
      ],
      "text/plain": [
       "            scientific_name                            park_name  observations\n",
       "0        Vicia benghalensis  Great Smoky Mountains National Park            68\n",
       "1            Neovison vison  Great Smoky Mountains National Park            77\n",
       "2         Prunus subcordata               Yosemite National Park           138\n",
       "3      Abutilon theophrasti                  Bryce National Park            84\n",
       "4  Githopsis specularioides  Great Smoky Mountains National Park            85"
      ]
     },
     "execution_count": 3,
     "metadata": {},
     "output_type": "execute_result"
    }
   ],
   "source": [
    "observations = pd.read_csv(\"/kaggle/input/csv-files/observations.csv\", encoding=\"utf-8\")\n",
    "observations.head()"
   ]
  },
  {
   "cell_type": "markdown",
   "id": "e7b618bf",
   "metadata": {
    "papermill": {
     "duration": 0.02011,
     "end_time": "2024-01-21T15:22:02.351181",
     "exception": false,
     "start_time": "2024-01-21T15:22:02.331071",
     "status": "completed"
    },
    "tags": []
   },
   "source": [
    "### Data Characteristics\n",
    "\n",
    "Next, there will be a check for the dimensions of the data sets, for `species` there are 5,824 rows and 4 columns while `observations` has 23,296 rows and 3 columns."
   ]
  },
  {
   "cell_type": "code",
   "execution_count": 4,
   "id": "74f103d1",
   "metadata": {
    "execution": {
     "iopub.execute_input": "2024-01-21T15:22:02.396597Z",
     "iopub.status.busy": "2024-01-21T15:22:02.395681Z",
     "iopub.status.idle": "2024-01-21T15:22:02.402406Z",
     "shell.execute_reply": "2024-01-21T15:22:02.400833Z"
    },
    "papermill": {
     "duration": 0.030964,
     "end_time": "2024-01-21T15:22:02.404774",
     "exception": false,
     "start_time": "2024-01-21T15:22:02.373810",
     "status": "completed"
    },
    "tags": []
   },
   "outputs": [
    {
     "name": "stdout",
     "output_type": "stream",
     "text": [
      "species shape: (5824, 4)\n",
      "observations shape: (23296, 3)\n"
     ]
    }
   ],
   "source": [
    "print(f\"species shape: {species.shape}\")\n",
    "print(f\"observations shape: {observations.shape}\")"
   ]
  },
  {
   "cell_type": "markdown",
   "id": "04dea599",
   "metadata": {
    "papermill": {
     "duration": 0.019654,
     "end_time": "2024-01-21T15:22:02.444952",
     "exception": false,
     "start_time": "2024-01-21T15:22:02.425298",
     "status": "completed"
    },
    "tags": []
   },
   "source": [
    "Next is to find the number of `category` that are represented in the data and there are 7 including animals and plants."
   ]
  },
  {
   "cell_type": "code",
   "execution_count": 5,
   "id": "7dd62c0c",
   "metadata": {
    "execution": {
     "iopub.execute_input": "2024-01-21T15:22:02.487641Z",
     "iopub.status.busy": "2024-01-21T15:22:02.486206Z",
     "iopub.status.idle": "2024-01-21T15:22:02.500798Z",
     "shell.execute_reply": "2024-01-21T15:22:02.499720Z"
    },
    "papermill": {
     "duration": 0.039014,
     "end_time": "2024-01-21T15:22:02.503659",
     "exception": false,
     "start_time": "2024-01-21T15:22:02.464645",
     "status": "completed"
    },
    "tags": []
   },
   "outputs": [
    {
     "name": "stdout",
     "output_type": "stream",
     "text": [
      "Number of Categories: 7\n",
      "Categories are namely: ['Mammal' 'Bird' 'Reptile' 'Amphibian' 'Fish' 'Vascular Plant'\n",
      " 'Nonvascular Plant']\n"
     ]
    }
   ],
   "source": [
    "print(f\"Number of Categories: {species.category.nunique()}\")\n",
    "print(f\"Categories are namely: {species.category.unique()}\")"
   ]
  },
  {
   "cell_type": "markdown",
   "id": "f6af60bf",
   "metadata": {
    "papermill": {
     "duration": 0.021533,
     "end_time": "2024-01-21T15:22:02.547396",
     "exception": false,
     "start_time": "2024-01-21T15:22:02.525863",
     "status": "completed"
    },
    "tags": []
   },
   "source": [
    "Here is a chance to drill one level deeper and see the count of `category` in the data. Vascular plants are by far the largest share of species with 4,470 in the data with reptiles being the fewest with 79."
   ]
  },
  {
   "cell_type": "code",
   "execution_count": 6,
   "id": "7de2f5bd",
   "metadata": {
    "execution": {
     "iopub.execute_input": "2024-01-21T15:22:02.594196Z",
     "iopub.status.busy": "2024-01-21T15:22:02.593749Z",
     "iopub.status.idle": "2024-01-21T15:22:02.611402Z",
     "shell.execute_reply": "2024-01-21T15:22:02.610122Z"
    },
    "papermill": {
     "duration": 0.042983,
     "end_time": "2024-01-21T15:22:02.614637",
     "exception": false,
     "start_time": "2024-01-21T15:22:02.571654",
     "status": "completed"
    },
    "tags": []
   },
   "outputs": [
    {
     "data": {
      "text/plain": [
       "category\n",
       "Amphibian              80\n",
       "Bird                  521\n",
       "Fish                  127\n",
       "Mammal                214\n",
       "Nonvascular Plant     333\n",
       "Reptile                79\n",
       "Vascular Plant       4470\n",
       "dtype: int64"
      ]
     },
     "execution_count": 6,
     "metadata": {},
     "output_type": "execute_result"
    }
   ],
   "source": [
    "category_counts = species.groupby(\"category\").size()\n",
    "category_counts"
   ]
  },
  {
   "cell_type": "markdown",
   "id": "ca6c9b81",
   "metadata": {
    "papermill": {
     "duration": 0.020029,
     "end_time": "2024-01-21T15:22:02.655166",
     "exception": false,
     "start_time": "2024-01-21T15:22:02.635137",
     "status": "completed"
    },
    "tags": []
   },
   "source": [
    "Another column to explore is `conservation_status`. The column has 4 categories, `Species of Concern`, `Endangered`, `Threatened`, `In Recovery`, and  `nan` values."
   ]
  },
  {
   "cell_type": "code",
   "execution_count": 7,
   "id": "9a983c58",
   "metadata": {
    "execution": {
     "iopub.execute_input": "2024-01-21T15:22:02.698557Z",
     "iopub.status.busy": "2024-01-21T15:22:02.697922Z",
     "iopub.status.idle": "2024-01-21T15:22:02.706916Z",
     "shell.execute_reply": "2024-01-21T15:22:02.705343Z"
    },
    "papermill": {
     "duration": 0.033515,
     "end_time": "2024-01-21T15:22:02.709403",
     "exception": false,
     "start_time": "2024-01-21T15:22:02.675888",
     "status": "completed"
    },
    "tags": []
   },
   "outputs": [
    {
     "name": "stdout",
     "output_type": "stream",
     "text": [
      "number of conservation statuses: 4\n",
      "unique conservation statuses: [nan 'Species of Concern' 'Endangered' 'Threatened' 'In Recovery']\n"
     ]
    }
   ],
   "source": [
    "print(f\"number of conservation statuses: {species.conservation_status.nunique()}\")\n",
    "print(f\"unique conservation statuses: {species.conservation_status.unique()}\")"
   ]
  },
  {
   "cell_type": "markdown",
   "id": "d1fcba52",
   "metadata": {
    "papermill": {
     "duration": 0.020124,
     "end_time": "2024-01-21T15:22:02.750235",
     "exception": false,
     "start_time": "2024-01-21T15:22:02.730111",
     "status": "completed"
    },
    "tags": []
   },
   "source": [
    "Next a count of the number of observations in the breakdown of the categories in `conservation_status` is done. There are 5,633 `nan` values which means that they are species without concerns. On the other hand there are 161 species of concern, 16 endangered, 10 threatened, and 4 in recovery. \n",
    "\n",
    "Note: In most cases coming across `nan` values must be treated carefully, but the absence of data here means that these species are not under any conservation status."
   ]
  },
  {
   "cell_type": "code",
   "execution_count": 8,
   "id": "d71bc369",
   "metadata": {
    "execution": {
     "iopub.execute_input": "2024-01-21T15:22:02.793977Z",
     "iopub.status.busy": "2024-01-21T15:22:02.793192Z",
     "iopub.status.idle": "2024-01-21T15:22:02.805782Z",
     "shell.execute_reply": "2024-01-21T15:22:02.804235Z"
    },
    "papermill": {
     "duration": 0.037988,
     "end_time": "2024-01-21T15:22:02.808515",
     "exception": false,
     "start_time": "2024-01-21T15:22:02.770527",
     "status": "completed"
    },
    "tags": []
   },
   "outputs": [
    {
     "name": "stdout",
     "output_type": "stream",
     "text": [
      "na values:5633\n",
      "conservation_status\n",
      "Endangered             16\n",
      "In Recovery             4\n",
      "Species of Concern    161\n",
      "Threatened             10\n",
      "dtype: int64\n"
     ]
    }
   ],
   "source": [
    "# Count of NaN values\n",
    "print(f\"na values:{species.conservation_status.isna().sum()}\")\n",
    "\n",
    "# Count of observations for each conservation status\n",
    "print(species.groupby(\"conservation_status\").size())"
   ]
  },
  {
   "cell_type": "markdown",
   "id": "d7acdf60",
   "metadata": {
    "papermill": {
     "duration": 0.02031,
     "end_time": "2024-01-21T15:22:02.850442",
     "exception": false,
     "start_time": "2024-01-21T15:22:02.830132",
     "status": "completed"
    },
    "tags": []
   },
   "source": [
    "### Observations\n",
    "\n",
    "The next section looks at observations data. The first task is to check the number of parks that are in the dataset and there are only 4 national parks."
   ]
  },
  {
   "cell_type": "code",
   "execution_count": 9,
   "id": "6a06fd7b",
   "metadata": {
    "execution": {
     "iopub.execute_input": "2024-01-21T15:22:02.894127Z",
     "iopub.status.busy": "2024-01-21T15:22:02.893644Z",
     "iopub.status.idle": "2024-01-21T15:22:02.906302Z",
     "shell.execute_reply": "2024-01-21T15:22:02.904503Z"
    },
    "papermill": {
     "duration": 0.038072,
     "end_time": "2024-01-21T15:22:02.909248",
     "exception": false,
     "start_time": "2024-01-21T15:22:02.871176",
     "status": "completed"
    },
    "tags": []
   },
   "outputs": [
    {
     "name": "stdout",
     "output_type": "stream",
     "text": [
      "Number of parks: 4\n",
      "Unique parks: ['Great Smoky Mountains National Park' 'Yosemite National Park'\n",
      " 'Bryce National Park' 'Yellowstone National Park']\n"
     ]
    }
   ],
   "source": [
    "print(f\"Number of parks: {observations.park_name.nunique()}\")\n",
    "print(f\"Unique parks: {observations.park_name.unique()}\")"
   ]
  },
  {
   "cell_type": "markdown",
   "id": "0bc8326a",
   "metadata": {
    "papermill": {
     "duration": 0.020385,
     "end_time": "2024-01-21T15:22:02.950267",
     "exception": false,
     "start_time": "2024-01-21T15:22:02.929882",
     "status": "completed"
    },
    "tags": []
   },
   "source": [
    "Here are the total number of observations logged in the parks, there are 3,314,739 sightings in the last 7 days... that's a lot of observations! "
   ]
  },
  {
   "cell_type": "code",
   "execution_count": 10,
   "id": "3d908c88",
   "metadata": {
    "execution": {
     "iopub.execute_input": "2024-01-21T15:22:02.995723Z",
     "iopub.status.busy": "2024-01-21T15:22:02.995074Z",
     "iopub.status.idle": "2024-01-21T15:22:03.002913Z",
     "shell.execute_reply": "2024-01-21T15:22:03.001392Z"
    },
    "papermill": {
     "duration": 0.033267,
     "end_time": "2024-01-21T15:22:03.005510",
     "exception": false,
     "start_time": "2024-01-21T15:22:02.972243",
     "status": "completed"
    },
    "tags": []
   },
   "outputs": [
    {
     "name": "stdout",
     "output_type": "stream",
     "text": [
      "Number of observations: 3314739\n"
     ]
    }
   ],
   "source": [
    "print(f\"Number of observations: {observations.observations.sum()}\")"
   ]
  },
  {
   "cell_type": "code",
   "execution_count": 11,
   "id": "39e29d96",
   "metadata": {
    "execution": {
     "iopub.execute_input": "2024-01-21T15:22:03.051319Z",
     "iopub.status.busy": "2024-01-21T15:22:03.050512Z",
     "iopub.status.idle": "2024-01-21T15:22:03.068072Z",
     "shell.execute_reply": "2024-01-21T15:22:03.065918Z"
    },
    "papermill": {
     "duration": 0.044033,
     "end_time": "2024-01-21T15:22:03.071310",
     "exception": false,
     "start_time": "2024-01-21T15:22:03.027277",
     "status": "completed"
    },
    "tags": []
   },
   "outputs": [
    {
     "name": "stdout",
     "output_type": "stream",
     "text": [
      "Park names and the sum of their observations:\n",
      "park_name\n",
      "Bryce National Park                     576025\n",
      "Great Smoky Mountains National Park     431820\n",
      "Yellowstone National Park              1443562\n",
      "Yosemite National Park                  863332\n",
      "Name: observations, dtype: int64\n"
     ]
    }
   ],
   "source": [
    "print(f\"Park names and the sum of their observations:\\n{observations.groupby('park_name')['observations'].sum()}\")"
   ]
  },
  {
   "cell_type": "markdown",
   "id": "83a8fc6d",
   "metadata": {
    "papermill": {
     "duration": 0.020559,
     "end_time": "2024-01-21T15:22:03.114577",
     "exception": false,
     "start_time": "2024-01-21T15:22:03.094018",
     "status": "completed"
    },
    "tags": []
   },
   "source": [
    "## Analysis"
   ]
  },
  {
   "cell_type": "markdown",
   "id": "2edd02ca",
   "metadata": {
    "papermill": {
     "duration": 0.020465,
     "end_time": "2024-01-21T15:22:03.155884",
     "exception": false,
     "start_time": "2024-01-21T15:22:03.135419",
     "status": "completed"
    },
    "tags": []
   },
   "source": [
    "This section will begin analyzing the data after the initial exploration. First task will be to clean and explore the `conservation_status` column in `species`. \n",
    "\n",
    "The column `conservation_status` has several possible values:\n",
    "- `Species of Concern`: declining or appear to be in need of conservation\n",
    "- `Threatened`: vulnerable to endangerment in the near future\n",
    "- `Endangered`: seriously at risk of extinction\n",
    "- `In Recovery`: formerly `Endangered`, but currently neither in danger of extinction throughout all or a significant portion of its range\n",
    "\n",
    "In the exploration, a lot of `nan` values were detected. These values will need to be converted to `No Intervention`."
   ]
  },
  {
   "cell_type": "code",
   "execution_count": 12,
   "id": "420e8f44",
   "metadata": {
    "execution": {
     "iopub.execute_input": "2024-01-21T15:22:03.201834Z",
     "iopub.status.busy": "2024-01-21T15:22:03.201049Z",
     "iopub.status.idle": "2024-01-21T15:22:03.214861Z",
     "shell.execute_reply": "2024-01-21T15:22:03.213966Z"
    },
    "papermill": {
     "duration": 0.040592,
     "end_time": "2024-01-21T15:22:03.217493",
     "exception": false,
     "start_time": "2024-01-21T15:22:03.176901",
     "status": "completed"
    },
    "tags": []
   },
   "outputs": [
    {
     "data": {
      "text/plain": [
       "category                  0\n",
       "scientific_name           0\n",
       "common_names              0\n",
       "conservation_status    5633\n",
       "dtype: int64"
      ]
     },
     "execution_count": 12,
     "metadata": {},
     "output_type": "execute_result"
    }
   ],
   "source": [
    "# Check for NaN values in conservation_status column\n",
    "species.isna().sum()"
   ]
  },
  {
   "cell_type": "code",
   "execution_count": 13,
   "id": "6ff08869",
   "metadata": {
    "execution": {
     "iopub.execute_input": "2024-01-21T15:22:03.265294Z",
     "iopub.status.busy": "2024-01-21T15:22:03.264890Z",
     "iopub.status.idle": "2024-01-21T15:22:03.282400Z",
     "shell.execute_reply": "2024-01-21T15:22:03.280787Z"
    },
    "papermill": {
     "duration": 0.044564,
     "end_time": "2024-01-21T15:22:03.285775",
     "exception": false,
     "start_time": "2024-01-21T15:22:03.241211",
     "status": "completed"
    },
    "tags": []
   },
   "outputs": [
    {
     "data": {
      "text/plain": [
       "conservation_status\n",
       "Endangered              16\n",
       "In Recovery              4\n",
       "No Intervention       5633\n",
       "Species of Concern     161\n",
       "Threatened              10\n",
       "dtype: int64"
      ]
     },
     "execution_count": 13,
     "metadata": {},
     "output_type": "execute_result"
    }
   ],
   "source": [
    "# Fill NaN values with 'No Intervention'\n",
    "species.fillna('No Intervention', inplace=True)\n",
    "\n",
    "# Display the count of each conservation status\n",
    "species.groupby('conservation_status').size()"
   ]
  },
  {
   "cell_type": "markdown",
   "id": "7e2e4b4e",
   "metadata": {
    "papermill": {
     "duration": 0.022204,
     "end_time": "2024-01-21T15:22:03.330092",
     "exception": false,
     "start_time": "2024-01-21T15:22:03.307888",
     "status": "completed"
    },
    "tags": []
   },
   "source": [
    "Next is to checkout the different categories that are nested in the `conservation_status` column except for the ones that do not require an intervention. There is both the table and chart to explore below.\n",
    "\n",
    "For those in the `Endangered` status, 7 were mammals and 4 were birds. In the `In Recovery` status, there were 3 birds and 1 mammal, which could possibly mean that the birds are bouncing back more than the mammals."
   ]
  },
  {
   "cell_type": "code",
   "execution_count": 14,
   "id": "2bf2de23",
   "metadata": {
    "execution": {
     "iopub.execute_input": "2024-01-21T15:22:03.380218Z",
     "iopub.status.busy": "2024-01-21T15:22:03.379028Z",
     "iopub.status.idle": "2024-01-21T15:22:03.413820Z",
     "shell.execute_reply": "2024-01-21T15:22:03.412227Z"
    },
    "papermill": {
     "duration": 0.064362,
     "end_time": "2024-01-21T15:22:03.416541",
     "exception": false,
     "start_time": "2024-01-21T15:22:03.352179",
     "status": "completed"
    },
    "tags": []
   },
   "outputs": [
    {
     "data": {
      "text/html": [
       "<div>\n",
       "<style scoped>\n",
       "    .dataframe tbody tr th:only-of-type {\n",
       "        vertical-align: middle;\n",
       "    }\n",
       "\n",
       "    .dataframe tbody tr th {\n",
       "        vertical-align: top;\n",
       "    }\n",
       "\n",
       "    .dataframe thead th {\n",
       "        text-align: right;\n",
       "    }\n",
       "</style>\n",
       "<table border=\"1\" class=\"dataframe\">\n",
       "  <thead>\n",
       "    <tr style=\"text-align: right;\">\n",
       "      <th>category</th>\n",
       "      <th>Amphibian</th>\n",
       "      <th>Bird</th>\n",
       "      <th>Fish</th>\n",
       "      <th>Mammal</th>\n",
       "      <th>Nonvascular Plant</th>\n",
       "      <th>Reptile</th>\n",
       "      <th>Vascular Plant</th>\n",
       "    </tr>\n",
       "    <tr>\n",
       "      <th>conservation_status</th>\n",
       "      <th></th>\n",
       "      <th></th>\n",
       "      <th></th>\n",
       "      <th></th>\n",
       "      <th></th>\n",
       "      <th></th>\n",
       "      <th></th>\n",
       "    </tr>\n",
       "  </thead>\n",
       "  <tbody>\n",
       "    <tr>\n",
       "      <th>Endangered</th>\n",
       "      <td>1.0</td>\n",
       "      <td>4.0</td>\n",
       "      <td>3.0</td>\n",
       "      <td>7.0</td>\n",
       "      <td>NaN</td>\n",
       "      <td>NaN</td>\n",
       "      <td>1.0</td>\n",
       "    </tr>\n",
       "    <tr>\n",
       "      <th>In Recovery</th>\n",
       "      <td>NaN</td>\n",
       "      <td>3.0</td>\n",
       "      <td>NaN</td>\n",
       "      <td>1.0</td>\n",
       "      <td>NaN</td>\n",
       "      <td>NaN</td>\n",
       "      <td>NaN</td>\n",
       "    </tr>\n",
       "    <tr>\n",
       "      <th>Species of Concern</th>\n",
       "      <td>4.0</td>\n",
       "      <td>72.0</td>\n",
       "      <td>4.0</td>\n",
       "      <td>28.0</td>\n",
       "      <td>5.0</td>\n",
       "      <td>5.0</td>\n",
       "      <td>43.0</td>\n",
       "    </tr>\n",
       "    <tr>\n",
       "      <th>Threatened</th>\n",
       "      <td>2.0</td>\n",
       "      <td>NaN</td>\n",
       "      <td>4.0</td>\n",
       "      <td>2.0</td>\n",
       "      <td>NaN</td>\n",
       "      <td>NaN</td>\n",
       "      <td>2.0</td>\n",
       "    </tr>\n",
       "  </tbody>\n",
       "</table>\n",
       "</div>"
      ],
      "text/plain": [
       "category             Amphibian  Bird  Fish  Mammal  Nonvascular Plant  \\\n",
       "conservation_status                                                     \n",
       "Endangered                 1.0   4.0   3.0     7.0                NaN   \n",
       "In Recovery                NaN   3.0   NaN     1.0                NaN   \n",
       "Species of Concern         4.0  72.0   4.0    28.0                5.0   \n",
       "Threatened                 2.0   NaN   4.0     2.0                NaN   \n",
       "\n",
       "category             Reptile  Vascular Plant  \n",
       "conservation_status                           \n",
       "Endangered               NaN             1.0  \n",
       "In Recovery              NaN             NaN  \n",
       "Species of Concern       5.0            43.0  \n",
       "Threatened               NaN             2.0  "
      ]
     },
     "execution_count": 14,
     "metadata": {},
     "output_type": "execute_result"
    }
   ],
   "source": [
    "# Group by 'conservation_status' and 'category', count the number of species, and unstack the result\n",
    "conservation_category = species[species.conservation_status != \"No Intervention\"]\\\n",
    "    .groupby([\"conservation_status\", \"category\"])['scientific_name']\\\n",
    "    .count()\\\n",
    "    .unstack()\n",
    "\n",
    "# Display the resulting table\n",
    "conservation_category"
   ]
  },
  {
   "cell_type": "code",
   "execution_count": 15,
   "id": "9ec4da57",
   "metadata": {
    "execution": {
     "iopub.execute_input": "2024-01-21T15:22:03.464853Z",
     "iopub.status.busy": "2024-01-21T15:22:03.463286Z",
     "iopub.status.idle": "2024-01-21T15:22:04.120879Z",
     "shell.execute_reply": "2024-01-21T15:22:04.119178Z"
    },
    "papermill": {
     "duration": 0.685124,
     "end_time": "2024-01-21T15:22:04.124096",
     "exception": false,
     "start_time": "2024-01-21T15:22:03.438972",
     "status": "completed"
    },
    "tags": []
   },
   "outputs": [
    {
     "data": {
      "image/png": "[encoded data removed]",
      "text/plain": [
       "<Figure size 800x600 with 1 Axes>"
      ]
     },
     "metadata": {},
     "output_type": "display_data"
    }
   ],
   "source": [
    "ax = conservation_category.plot(kind = 'bar', figsize=(8,6), \n",
    "                               stacked=True)\n",
    "ax.set_xlabel(\"Conservation Status\")\n",
    "ax.set_ylabel(\"Number of Species\");"
   ]
  },
  {
   "cell_type": "markdown",
   "id": "1554968f",
   "metadata": {
    "papermill": {
     "duration": 0.021691,
     "end_time": "2024-01-21T15:22:04.168820",
     "exception": false,
     "start_time": "2024-01-21T15:22:04.147129",
     "status": "completed"
    },
    "tags": []
   },
   "source": [
    "#### In conservation\n",
    "\n",
    "The next question is if certain types of species are more likely to be endangered? This can be answered by creating a new column called `is_protected` and include any species that had a value other than `No Intervention`. "
   ]
  },
  {
   "cell_type": "code",
   "execution_count": 16,
   "id": "52b1fe20",
   "metadata": {
    "execution": {
     "iopub.execute_input": "2024-01-21T15:22:04.216016Z",
     "iopub.status.busy": "2024-01-21T15:22:04.215619Z",
     "iopub.status.idle": "2024-01-21T15:22:04.223677Z",
     "shell.execute_reply": "2024-01-21T15:22:04.222458Z"
    },
    "papermill": {
     "duration": 0.035125,
     "end_time": "2024-01-21T15:22:04.225975",
     "exception": false,
     "start_time": "2024-01-21T15:22:04.190850",
     "status": "completed"
    },
    "tags": []
   },
   "outputs": [],
   "source": [
    "# Create a new column 'is_protected'\n",
    "species['is_protected'] = species.conservation_status != 'No Intervention'"
   ]
  },
  {
   "cell_type": "markdown",
   "id": "c37c7f8b",
   "metadata": {
    "papermill": {
     "duration": 0.021878,
     "end_time": "2024-01-21T15:22:04.271264",
     "exception": false,
     "start_time": "2024-01-21T15:22:04.249386",
     "status": "completed"
    },
    "tags": []
   },
   "source": [
    "Once the new column is created, group by `category` and `is_protected` to show the break down of each species type and protection status. \n",
    "\n",
    "It's easy to see that Birds, Vascular Plants, and Mammals have a higher absolute number of species protected. "
   ]
  },
  {
   "cell_type": "code",
   "execution_count": 17,
   "id": "a6052185",
   "metadata": {
    "execution": {
     "iopub.execute_input": "2024-01-21T15:22:04.322033Z",
     "iopub.status.busy": "2024-01-21T15:22:04.321387Z",
     "iopub.status.idle": "2024-01-21T15:22:04.364487Z",
     "shell.execute_reply": "2024-01-21T15:22:04.361866Z"
    },
    "papermill": {
     "duration": 0.073188,
     "end_time": "2024-01-21T15:22:04.368374",
     "exception": false,
     "start_time": "2024-01-21T15:22:04.295186",
     "status": "completed"
    },
    "tags": []
   },
   "outputs": [
    {
     "data": {
      "text/html": [
       "<div>\n",
       "<style scoped>\n",
       "    .dataframe tbody tr th:only-of-type {\n",
       "        vertical-align: middle;\n",
       "    }\n",
       "\n",
       "    .dataframe tbody tr th {\n",
       "        vertical-align: top;\n",
       "    }\n",
       "\n",
       "    .dataframe thead th {\n",
       "        text-align: right;\n",
       "    }\n",
       "</style>\n",
       "<table border=\"1\" class=\"dataframe\">\n",
       "  <thead>\n",
       "    <tr style=\"text-align: right;\">\n",
       "      <th></th>\n",
       "      <th>category</th>\n",
       "      <th>not_protected</th>\n",
       "      <th>protected</th>\n",
       "    </tr>\n",
       "  </thead>\n",
       "  <tbody>\n",
       "    <tr>\n",
       "      <th>0</th>\n",
       "      <td>Amphibian</td>\n",
       "      <td>73</td>\n",
       "      <td>7</td>\n",
       "    </tr>\n",
       "    <tr>\n",
       "      <th>1</th>\n",
       "      <td>Bird</td>\n",
       "      <td>442</td>\n",
       "      <td>79</td>\n",
       "    </tr>\n",
       "    <tr>\n",
       "      <th>2</th>\n",
       "      <td>Fish</td>\n",
       "      <td>116</td>\n",
       "      <td>11</td>\n",
       "    </tr>\n",
       "    <tr>\n",
       "      <th>3</th>\n",
       "      <td>Mammal</td>\n",
       "      <td>176</td>\n",
       "      <td>38</td>\n",
       "    </tr>\n",
       "    <tr>\n",
       "      <th>4</th>\n",
       "      <td>Nonvascular Plant</td>\n",
       "      <td>328</td>\n",
       "      <td>5</td>\n",
       "    </tr>\n",
       "    <tr>\n",
       "      <th>5</th>\n",
       "      <td>Reptile</td>\n",
       "      <td>74</td>\n",
       "      <td>5</td>\n",
       "    </tr>\n",
       "    <tr>\n",
       "      <th>6</th>\n",
       "      <td>Vascular Plant</td>\n",
       "      <td>4424</td>\n",
       "      <td>46</td>\n",
       "    </tr>\n",
       "  </tbody>\n",
       "</table>\n",
       "</div>"
      ],
      "text/plain": [
       "            category  not_protected  protected\n",
       "0          Amphibian             73          7\n",
       "1               Bird            442         79\n",
       "2               Fish            116         11\n",
       "3             Mammal            176         38\n",
       "4  Nonvascular Plant            328          5\n",
       "5            Reptile             74          5\n",
       "6     Vascular Plant           4424         46"
      ]
     },
     "execution_count": 17,
     "metadata": {},
     "output_type": "execute_result"
    }
   ],
   "source": [
    "# Use crosstab to create the contingency table\n",
    "category_counts = pd.crosstab(index=species['category'], columns=species['is_protected'])\n",
    "\n",
    "# Rename the columns for clarity\n",
    "category_counts.columns = ['not_protected', 'protected']\n",
    "\n",
    "# Reset the index for a more standard DataFrame\n",
    "category_counts.reset_index(inplace=True)\n",
    "\n",
    "category_counts"
   ]
  },
  {
   "cell_type": "markdown",
   "id": "848cf81c",
   "metadata": {
    "papermill": {
     "duration": 0.023685,
     "end_time": "2024-01-21T15:22:04.423043",
     "exception": false,
     "start_time": "2024-01-21T15:22:04.399358",
     "status": "completed"
    },
    "tags": []
   },
   "source": [
    "Absolute numbers are not always the most useful statistic, therefore it's important to calculate the rate of protection that each `category` exhibits in the data. From this analysis, one can see that ~17 percent of mammals were under protection, as well as ~15 percent of birds."
   ]
  },
  {
   "cell_type": "code",
   "execution_count": 18,
   "id": "59ed036b",
   "metadata": {
    "execution": {
     "iopub.execute_input": "2024-01-21T15:22:04.472894Z",
     "iopub.status.busy": "2024-01-21T15:22:04.471451Z",
     "iopub.status.idle": "2024-01-21T15:22:04.492725Z",
     "shell.execute_reply": "2024-01-21T15:22:04.491507Z"
    },
    "papermill": {
     "duration": 0.049232,
     "end_time": "2024-01-21T15:22:04.495499",
     "exception": false,
     "start_time": "2024-01-21T15:22:04.446267",
     "status": "completed"
    },
    "tags": []
   },
   "outputs": [
    {
     "data": {
      "text/html": [
       "<div>\n",
       "<style scoped>\n",
       "    .dataframe tbody tr th:only-of-type {\n",
       "        vertical-align: middle;\n",
       "    }\n",
       "\n",
       "    .dataframe tbody tr th {\n",
       "        vertical-align: top;\n",
       "    }\n",
       "\n",
       "    .dataframe thead th {\n",
       "        text-align: right;\n",
       "    }\n",
       "</style>\n",
       "<table border=\"1\" class=\"dataframe\">\n",
       "  <thead>\n",
       "    <tr style=\"text-align: right;\">\n",
       "      <th></th>\n",
       "      <th>category</th>\n",
       "      <th>not_protected</th>\n",
       "      <th>protected</th>\n",
       "      <th>percent_protected</th>\n",
       "      <th>percent_not_protected</th>\n",
       "    </tr>\n",
       "  </thead>\n",
       "  <tbody>\n",
       "    <tr>\n",
       "      <th>0</th>\n",
       "      <td>Amphibian</td>\n",
       "      <td>73</td>\n",
       "      <td>7</td>\n",
       "      <td>8.75%</td>\n",
       "      <td>91.25%</td>\n",
       "    </tr>\n",
       "    <tr>\n",
       "      <th>1</th>\n",
       "      <td>Bird</td>\n",
       "      <td>442</td>\n",
       "      <td>79</td>\n",
       "      <td>15.16%</td>\n",
       "      <td>84.84%</td>\n",
       "    </tr>\n",
       "    <tr>\n",
       "      <th>2</th>\n",
       "      <td>Fish</td>\n",
       "      <td>116</td>\n",
       "      <td>11</td>\n",
       "      <td>8.66%</td>\n",
       "      <td>91.34%</td>\n",
       "    </tr>\n",
       "    <tr>\n",
       "      <th>3</th>\n",
       "      <td>Mammal</td>\n",
       "      <td>176</td>\n",
       "      <td>38</td>\n",
       "      <td>17.76%</td>\n",
       "      <td>82.24%</td>\n",
       "    </tr>\n",
       "    <tr>\n",
       "      <th>4</th>\n",
       "      <td>Nonvascular Plant</td>\n",
       "      <td>328</td>\n",
       "      <td>5</td>\n",
       "      <td>1.50%</td>\n",
       "      <td>98.50%</td>\n",
       "    </tr>\n",
       "    <tr>\n",
       "      <th>5</th>\n",
       "      <td>Reptile</td>\n",
       "      <td>74</td>\n",
       "      <td>5</td>\n",
       "      <td>6.33%</td>\n",
       "      <td>93.67%</td>\n",
       "    </tr>\n",
       "    <tr>\n",
       "      <th>6</th>\n",
       "      <td>Vascular Plant</td>\n",
       "      <td>4424</td>\n",
       "      <td>46</td>\n",
       "      <td>1.03%</td>\n",
       "      <td>98.97%</td>\n",
       "    </tr>\n",
       "  </tbody>\n",
       "</table>\n",
       "</div>"
      ],
      "text/plain": [
       "            category  not_protected  protected percent_protected  \\\n",
       "0          Amphibian             73          7             8.75%   \n",
       "1               Bird            442         79            15.16%   \n",
       "2               Fish            116         11             8.66%   \n",
       "3             Mammal            176         38            17.76%   \n",
       "4  Nonvascular Plant            328          5             1.50%   \n",
       "5            Reptile             74          5             6.33%   \n",
       "6     Vascular Plant           4424         46             1.03%   \n",
       "\n",
       "  percent_not_protected  \n",
       "0                91.25%  \n",
       "1                84.84%  \n",
       "2                91.34%  \n",
       "3                82.24%  \n",
       "4                98.50%  \n",
       "5                93.67%  \n",
       "6                98.97%  "
      ]
     },
     "execution_count": 18,
     "metadata": {},
     "output_type": "execute_result"
    }
   ],
   "source": [
    "# Calculate the percentage of protected and not protected species and format as strings with two decimal places\n",
    "\n",
    "category_counts['percent_protected'] = (category_counts.protected / (category_counts.protected + category_counts.not_protected) * 100).map(\"{:.2f}%\".format)\n",
    "category_counts['percent_not_protected'] = (category_counts.not_protected / (category_counts.protected + category_counts.not_protected) * 100).map(\"{:.2f}%\".format)\n",
    "\n",
    "category_counts"
   ]
  },
  {
   "cell_type": "markdown",
   "id": "9f06a80e",
   "metadata": {
    "papermill": {
     "duration": 0.031998,
     "end_time": "2024-01-21T15:22:04.560393",
     "exception": false,
     "start_time": "2024-01-21T15:22:04.528395",
     "status": "completed"
    },
    "tags": []
   },
   "source": [
    "### Statistical Significance\n",
    "\n",
    "This section will run some chi-squared tests to see if different species have statistically significant differences in conservation status rates. In order to run a chi squared test, a contingency table will need to be created. The contingency table should look like this:\n",
    "\n",
    "||protected|not protected|\n",
    "|-|-|-|\n",
    "|Mammal|?|?|\n",
    "|Bird|?|?|\n",
    "\n",
    "The first test will be called `contingency1` and will need to be filled with the correct numbers for mammals and birds."
   ]
  },
  {
   "cell_type": "markdown",
   "id": "323c649f",
   "metadata": {
    "papermill": {
     "duration": 0.033792,
     "end_time": "2024-01-21T15:22:04.633494",
     "exception": false,
     "start_time": "2024-01-21T15:22:04.599702",
     "status": "completed"
    },
    "tags": []
   },
   "source": [
    "To perform a chi-squared test, we need to create a contingency table that compares the observed frequencies of protected and not protected species for different categories. The table will have two columns: one for protected and one for not protected.\n",
    "\n",
    "For the first test (contingency1), which involves mammals and birds, you can create the contingency table as follows:"
   ]
  },
  {
   "cell_type": "code",
   "execution_count": 19,
   "id": "51cc4cd9",
   "metadata": {
    "execution": {
     "iopub.execute_input": "2024-01-21T15:22:04.687439Z",
     "iopub.status.busy": "2024-01-21T15:22:04.686474Z",
     "iopub.status.idle": "2024-01-21T15:22:04.692568Z",
     "shell.execute_reply": "2024-01-21T15:22:04.691656Z"
    },
    "papermill": {
     "duration": 0.036118,
     "end_time": "2024-01-21T15:22:04.695288",
     "exception": false,
     "start_time": "2024-01-21T15:22:04.659170",
     "status": "completed"
    },
    "tags": []
   },
   "outputs": [],
   "source": [
    "contingency1 = [[38, 176],\n",
    "              [79, 442]]"
   ]
  },
  {
   "cell_type": "markdown",
   "id": "228c3205",
   "metadata": {
    "papermill": {
     "duration": 0.028088,
     "end_time": "2024-01-21T15:22:04.749402",
     "exception": false,
     "start_time": "2024-01-21T15:22:04.721314",
     "status": "completed"
    },
    "tags": []
   },
   "source": [
    "This table represents the observed counts of protected and not protected species for Mammals and Birds. You can use this table to perform a chi-squared test to assess whether there are statistically significant differences in conservation status rates between Mammals and Birds."
   ]
  },
  {
   "cell_type": "markdown",
   "id": "ace9c4bd",
   "metadata": {
    "papermill": {
     "duration": 0.024849,
     "end_time": "2024-01-21T15:22:04.798899",
     "exception": false,
     "start_time": "2024-01-21T15:22:04.774050",
     "status": "completed"
    },
    "tags": []
   },
   "source": [
    "To determine whether there are statistically significant differences in conservation status rates between Mammals and Birds, you can perform a chi-squared test on the contingency table (contingency1). The resulting `p-value` from the test will help you make this determination.\n",
    "\n",
    "If the p-value is less than the chosen significance level (`commonly 0.05`), you can reject the null hypothesis. In this context, rejecting the null hypothesis indicates that there are statistically significant differences in conservation status rates between Mammals and Birds.\n",
    "\n",
    "If the p-value is greater than or equal to the significance level, you fail to reject the null hypothesis, suggesting that there isn't enough evidence to conclude significant differences in conservation status rates between Mammals and Birds.\n",
    "\n",
    "It's important to note that statistical significance does not imply practical significance. Even if the test shows a significant difference, the effect size and practical significance should also be considered for a comprehensive understanding of the results.\n",
    "\n",
    "\n",
    "Here's how you can perform the chi-squared test and interpret the `p-value`:"
   ]
  },
  {
   "cell_type": "code",
   "execution_count": 20,
   "id": "a4404af9",
   "metadata": {
    "execution": {
     "iopub.execute_input": "2024-01-21T15:22:04.849472Z",
     "iopub.status.busy": "2024-01-21T15:22:04.848281Z",
     "iopub.status.idle": "2024-01-21T15:22:04.859751Z",
     "shell.execute_reply": "2024-01-21T15:22:04.858292Z"
    },
    "papermill": {
     "duration": 0.039445,
     "end_time": "2024-01-21T15:22:04.862348",
     "exception": false,
     "start_time": "2024-01-21T15:22:04.822903",
     "status": "completed"
    },
    "tags": []
   },
   "outputs": [
    {
     "data": {
      "text/plain": [
       "Chi2ContingencyResult(statistic=0.5810483277947567, pvalue=0.445901703047197, dof=1, expected_freq=array([[ 34.06530612, 179.93469388],\n",
       "       [ 82.93469388, 438.06530612]]))"
      ]
     },
     "execution_count": 20,
     "metadata": {},
     "output_type": "execute_result"
    }
   ],
   "source": [
    "from scipy.stats import chi2_contingency\n",
    "\n",
    "# Perform chi-squared test\n",
    "chi2_contingency(contingency1)"
   ]
  },
  {
   "cell_type": "markdown",
   "id": "3a8a4f81",
   "metadata": {
    "papermill": {
     "duration": 0.024192,
     "end_time": "2024-01-21T15:22:04.910480",
     "exception": false,
     "start_time": "2024-01-21T15:22:04.886288",
     "status": "completed"
    },
    "tags": []
   },
   "source": [
    "The chi-squared test result provides the following information:\n",
    "\n",
    "- **Chi-squared statistic:** 0.5810\n",
    "- **Degrees of freedom (dof):** 1\n",
    "- **P-value:** 0.4459\n",
    "- **Expected frequencies:** The expected frequencies under the null hypothesis (no association)\n",
    "\n",
    "#### Interpretation:\n",
    "\n",
    "1. **Chi-squared statistic:**\n",
    "   - The chi-squared statistic measures the difference between the observed and expected frequencies. In this case, the value is 0.5810.\n",
    "\n",
    "2. **Degrees of freedom (dof):**\n",
    "   - The degrees of freedom represent the number of categories minus 1. Here, it is 1 because you are comparing two categories (protected and not protected).\n",
    "\n",
    "3. **P-value:**\n",
    "   - The p-value is 0.4459. This is the probability of observing a chi-squared statistic as extreme as, or more extreme than, the one observed in your sample, assuming that the null hypothesis is true.\n",
    "\n",
    "4. **Expected frequencies:**\n",
    "   - The expected frequencies are the values you would expect to see in each cell of the contingency table under the assumption of no association. They are calculated based on the marginal totals and the assumption of independence between categories.\n",
    "\n",
    "#### Conclusion:\n",
    "\n",
    "With a p-value of 0.4459, which is greater than the commonly used significance level of 0.05, you would fail to reject the null hypothesis. Similar to the previous test, there is not enough evidence to conclude that there are statistically significant differences in conservation status rates between the two groups represented in this test.\n",
    "\n",
    "In practical terms, this suggests that there isn't a significant association between the conservation status and the category for the observed data in this specific case."
   ]
  },
  {
   "cell_type": "markdown",
   "id": "bbe807b1",
   "metadata": {
    "papermill": {
     "duration": 0.022928,
     "end_time": "2024-01-21T15:22:04.956250",
     "exception": false,
     "start_time": "2024-01-21T15:22:04.933322",
     "status": "completed"
    },
    "tags": []
   },
   "source": [
    "The next pair, is going to test the difference between `Reptile` and `Mammal`.\n",
    "\n",
    "The format is again is like below:\n",
    "\n",
    "||protected|not protected|\n",
    "|-|-|-|\n",
    "|Mammal|?|?|\n",
    "|Reptile|?|?|"
   ]
  },
  {
   "cell_type": "code",
   "execution_count": 21,
   "id": "44df3ab8",
   "metadata": {
    "execution": {
     "iopub.execute_input": "2024-01-21T15:22:05.006519Z",
     "iopub.status.busy": "2024-01-21T15:22:05.005829Z",
     "iopub.status.idle": "2024-01-21T15:22:05.017419Z",
     "shell.execute_reply": "2024-01-21T15:22:05.015808Z"
    },
    "papermill": {
     "duration": 0.039983,
     "end_time": "2024-01-21T15:22:05.020093",
     "exception": false,
     "start_time": "2024-01-21T15:22:04.980110",
     "status": "completed"
    },
    "tags": []
   },
   "outputs": [
    {
     "data": {
      "text/plain": [
       "Chi2ContingencyResult(statistic=5.139702724228909, pvalue=0.02338465214871547, dof=1, expected_freq=array([[ 31.40614334, 182.59385666],\n",
       "       [ 11.59385666,  67.40614334]]))"
      ]
     },
     "execution_count": 21,
     "metadata": {},
     "output_type": "execute_result"
    }
   ],
   "source": [
    "contingency2 = [[38, 176],\n",
    "              [5, 74]]\n",
    "chi2_contingency(contingency2)"
   ]
  },
  {
   "cell_type": "markdown",
   "id": "83a11be9",
   "metadata": {
    "papermill": {
     "duration": 0.024785,
     "end_time": "2024-01-21T15:22:05.068446",
     "exception": false,
     "start_time": "2024-01-21T15:22:05.043661",
     "status": "completed"
    },
    "tags": []
   },
   "source": [
    "The chi-squared test result for `contingency2` is as follows:\n",
    "\n",
    "- **Chi-squared statistic:** 5.1397\n",
    "- **Degrees of freedom (dof):** 1\n",
    "- **P-value:** 0.0234\n",
    "- **Expected frequencies:** The expected frequencies under the null hypothesis (no association)\n",
    "\n",
    "#### Interpretation:\n",
    "\n",
    "1. **Chi-squared statistic:**\n",
    "   - The chi-squared statistic measures the difference between the observed and expected frequencies. In this case, the value is 5.1397.\n",
    "\n",
    "2. **Degrees of freedom (dof):**\n",
    "   - The degrees of freedom represent the number of categories minus 1. Here, it is 1 because you are comparing two categories (protected and not protected).\n",
    "\n",
    "3. **P-value:**\n",
    "   - The p-value is 0.0234. This is the probability of observing a chi-squared statistic as extreme as, or more extreme than, the one observed in your sample, assuming that the null hypothesis is true.\n",
    "\n",
    "4. **Expected frequencies:**\n",
    "   - The expected frequencies are the values you would expect to see in each cell of the contingency table under the assumption of no association. They are calculated based on the marginal totals and the assumption of independence between categories.\n",
    "\n",
    "#### Conclusion:\n",
    "\n",
    "With a p-value of 0.0234, which is less than the commonly used significance level of 0.05, you would reject the null hypothesis. This suggests that there is evidence to conclude that there are statistically significant differences in conservation status rates between the protected and not protected categories for the species in the Mammal and Bird categories.\n",
    "\n",
    "In practical terms, the observed differences in conservation status rates for Mammals and Birds are unlikely to be due to random chance alone."
   ]
  },
  {
   "cell_type": "markdown",
   "id": "d3bd9ccf",
   "metadata": {
    "papermill": {
     "duration": 0.02259,
     "end_time": "2024-01-21T15:22:05.114063",
     "exception": false,
     "start_time": "2024-01-21T15:22:05.091473",
     "status": "completed"
    },
    "tags": []
   },
   "source": [
    "### Species in Parks"
   ]
  },
  {
   "cell_type": "markdown",
   "id": "b5992b43",
   "metadata": {
    "papermill": {
     "duration": 0.022842,
     "end_time": "2024-01-21T15:22:05.160417",
     "exception": false,
     "start_time": "2024-01-21T15:22:05.137575",
     "status": "completed"
    },
    "tags": []
   },
   "source": [
    "The next set of analysis will come from data from the conservationists as they have been recording sightings of different species at several national parks for the past 7 days.\n",
    "\n",
    "The first step is to look at the the common names from `species` to get an idea of the most prevalent animals in the dataset. The data will be need to be split up into individual names."
   ]
  },
  {
   "cell_type": "code",
   "execution_count": 22,
   "id": "d0037d2f",
   "metadata": {
    "execution": {
     "iopub.execute_input": "2024-01-21T15:22:05.209963Z",
     "iopub.status.busy": "2024-01-21T15:22:05.209460Z",
     "iopub.status.idle": "2024-01-21T15:22:05.219460Z",
     "shell.execute_reply": "2024-01-21T15:22:05.218119Z"
    },
    "papermill": {
     "duration": 0.038919,
     "end_time": "2024-01-21T15:22:05.222184",
     "exception": false,
     "start_time": "2024-01-21T15:22:05.183265",
     "status": "completed"
    },
    "tags": []
   },
   "outputs": [
    {
     "data": {
      "text/plain": [
       "0                             Gapper's Red-Backed Vole\n",
       "1                                American Bison, Bison\n",
       "2    Aurochs, Aurochs, Domestic Cattle (Feral), Dom...\n",
       "3    Domestic Sheep, Mouflon, Red Sheep, Sheep (Feral)\n",
       "4                                        Wapiti Or Elk\n",
       "5                                    White-Tailed Deer\n",
       "Name: common_names, dtype: object"
      ]
     },
     "execution_count": 22,
     "metadata": {},
     "output_type": "execute_result"
    }
   ],
   "source": [
    "species.common_names[:6]"
   ]
  },
  {
   "cell_type": "code",
   "execution_count": 23,
   "id": "622ecd45",
   "metadata": {
    "execution": {
     "iopub.execute_input": "2024-01-21T15:22:05.271909Z",
     "iopub.status.busy": "2024-01-21T15:22:05.271428Z",
     "iopub.status.idle": "2024-01-21T15:22:05.286718Z",
     "shell.execute_reply": "2024-01-21T15:22:05.285256Z"
    },
    "papermill": {
     "duration": 0.043339,
     "end_time": "2024-01-21T15:22:05.289525",
     "exception": false,
     "start_time": "2024-01-21T15:22:05.246186",
     "status": "completed"
    },
    "tags": []
   },
   "outputs": [
    {
     "data": {
      "text/plain": [
       "[[\"Gapper's\", 'Red-Backed', 'Vole'],\n",
       " ['American', 'Bison,', 'Bison'],\n",
       " ['Aurochs,',\n",
       "  'Aurochs,',\n",
       "  'Domestic',\n",
       "  'Cattle',\n",
       "  '(Feral),',\n",
       "  'Domesticated',\n",
       "  'Cattle'],\n",
       " ['Domestic', 'Sheep,', 'Mouflon,', 'Red', 'Sheep,', 'Sheep', '(Feral)'],\n",
       " ['Wapiti', 'Or', 'Elk'],\n",
       " ['White-Tailed', 'Deer']]"
      ]
     },
     "execution_count": 23,
     "metadata": {},
     "output_type": "execute_result"
    }
   ],
   "source": [
    "import string\n",
    "\n",
    "# Select Mammal category and clean common names\n",
    "mammal_common_names = species[species.category == \"Mammal\"].common_names.str.replace('[{}]'.format(string.punctuation), '').str.split().tolist()\n",
    "\n",
    "# Display the first 6 elements\n",
    "mammal_common_names[:6]"
   ]
  },
  {
   "cell_type": "markdown",
   "id": "9d26dedf",
   "metadata": {
    "papermill": {
     "duration": 0.024319,
     "end_time": "2024-01-21T15:22:05.337127",
     "exception": false,
     "start_time": "2024-01-21T15:22:05.312808",
     "status": "completed"
    },
    "tags": []
   },
   "source": [
    "The next step is to clean up duplicate words in each row since they should no be counted more than once per species.\n",
    "\n",
    "This code ensures that each word in the common names is converted to lowercase, punctuation is removed, and duplicates are eliminated. The final result is a list of lists, where each inner list contains unique words for a specific common name in the `\"Mammal\"` category."
   ]
  },
  {
   "cell_type": "code",
   "execution_count": 24,
   "id": "7f456408",
   "metadata": {
    "execution": {
     "iopub.execute_input": "2024-01-21T15:22:05.388042Z",
     "iopub.status.busy": "2024-01-21T15:22:05.387102Z",
     "iopub.status.idle": "2024-01-21T15:22:05.404179Z",
     "shell.execute_reply": "2024-01-21T15:22:05.402562Z"
    },
    "papermill": {
     "duration": 0.04615,
     "end_time": "2024-01-21T15:22:05.407091",
     "exception": false,
     "start_time": "2024-01-21T15:22:05.360941",
     "status": "completed"
    },
    "tags": []
   },
   "outputs": [
    {
     "data": {
      "text/plain": [
       "[['vole', 'redbacked', 'gappers'],\n",
       " ['american', 'bison'],\n",
       " ['domesticated', 'cattle', 'aurochs', 'domestic', 'feral'],\n",
       " ['mouflon', 'domestic', 'sheep', 'red', 'feral'],\n",
       " ['elk', 'or', 'wapiti'],\n",
       " ['whitetailed', 'deer']]"
      ]
     },
     "execution_count": 24,
     "metadata": {},
     "output_type": "execute_result"
    }
   ],
   "source": [
    "# Function to clean and remove duplicates from a single common name\n",
    "def clean_and_remove_duplicates(common_name):\n",
    "    # Convert to lowercase, remove punctuation, split, and remove duplicates\n",
    "    words = common_name.lower().translate(str.maketrans('', '', string.punctuation)).split()\n",
    "    unique_words = list(set(words))\n",
    "    return unique_words\n",
    "\n",
    "# Apply the function to each common name in the \"Mammal\" category\n",
    "clean_mammal_rows = species[species.category == \"Mammal\"].common_names.apply(clean_and_remove_duplicates).tolist()\n",
    "\n",
    "# Display the first 6 elements\n",
    "clean_mammal_rows[:6]"
   ]
  },
  {
   "cell_type": "markdown",
   "id": "088f50fc",
   "metadata": {
    "papermill": {
     "duration": 0.023404,
     "end_time": "2024-01-21T15:22:05.454561",
     "exception": false,
     "start_time": "2024-01-21T15:22:05.431157",
     "status": "completed"
    },
    "tags": []
   },
   "source": [
    "Next the words need to be collapsed into one list for easier use."
   ]
  },
  {
   "cell_type": "markdown",
   "id": "de1f5fea",
   "metadata": {
    "papermill": {
     "duration": 0.023106,
     "end_time": "2024-01-21T15:22:05.501152",
     "exception": false,
     "start_time": "2024-01-21T15:22:05.478046",
     "status": "completed"
    },
    "tags": []
   },
   "source": [
    "**List Comprehension for Flattening: (below code explanation)*\n",
    "\n",
    "* for sublist in clean_mammal_rows: Outer loop iterates through each sublist in clean_mammal_rows.\n",
    "* for word in sublist: Inner loop iterates through each word in the current sublist.\n",
    "* word: The result of the list comprehension is a flat list containing all the words."
   ]
  },
  {
   "cell_type": "code",
   "execution_count": 25,
   "id": "4db9222b",
   "metadata": {
    "execution": {
     "iopub.execute_input": "2024-01-21T15:22:05.550412Z",
     "iopub.status.busy": "2024-01-21T15:22:05.549950Z",
     "iopub.status.idle": "2024-01-21T15:22:05.558422Z",
     "shell.execute_reply": "2024-01-21T15:22:05.557367Z"
    },
    "papermill": {
     "duration": 0.035953,
     "end_time": "2024-01-21T15:22:05.560658",
     "exception": false,
     "start_time": "2024-01-21T15:22:05.524705",
     "status": "completed"
    },
    "tags": []
   },
   "outputs": [
    {
     "data": {
      "text/plain": [
       "['vole', 'redbacked', 'gappers', 'american', 'bison', 'domesticated']"
      ]
     },
     "execution_count": 25,
     "metadata": {},
     "output_type": "execute_result"
    }
   ],
   "source": [
    "# Flatten the list of lists into a single list using list comprehension\n",
    "res = [word for sublist in clean_mammal_rows for word in sublist]\n",
    "\n",
    "# Display the first 6 elements\n",
    "res[:6]"
   ]
  },
  {
   "cell_type": "markdown",
   "id": "c0932a9a",
   "metadata": {
    "papermill": {
     "duration": 0.023515,
     "end_time": "2024-01-21T15:22:05.607767",
     "exception": false,
     "start_time": "2024-01-21T15:22:05.584252",
     "status": "completed"
    },
    "tags": []
   },
   "source": [
    "Now the data is ready to be able to count the number of occurrences of each word. From this analysis, it seems that `Bat` occurred 23 times while `Shrew` came up 18 times."
   ]
  },
  {
   "cell_type": "markdown",
   "id": "0899a668",
   "metadata": {
    "papermill": {
     "duration": 0.023411,
     "end_time": "2024-01-21T15:22:05.654844",
     "exception": false,
     "start_time": "2024-01-21T15:22:05.631433",
     "status": "completed"
    },
    "tags": []
   },
   "source": [
    "We can achieve this concisely using the `value_counts` method in pandas.\n",
    "\n",
    "Explanation:\n",
    "\n",
    "1. Convert List to Pandas Series:\n",
    "\n",
    "   word_counts_series = pd.Series(res).value_counts()\n",
    "   \n",
    "   - Convert the flattened list (`res`) to a pandas Series.\n",
    "   - Use the `value_counts` method to count occurrences of each unique word.\n",
    "   \n",
    "\n",
    "2. Create DataFrame from Series:\n",
    "\n",
    "   top_words_df = pd.DataFrame({'Word': word_counts_series.index, 'Count': word_counts_series.values}).head(10)\n",
    "   \n",
    "   - Create a DataFrame from the Series.\n",
    "   - Specify column names 'Word' and 'Count'.\n",
    "   - Display the top 10 rows using `head(10)`."
   ]
  },
  {
   "cell_type": "code",
   "execution_count": 26,
   "id": "30fa3cba",
   "metadata": {
    "execution": {
     "iopub.execute_input": "2024-01-21T15:22:05.705063Z",
     "iopub.status.busy": "2024-01-21T15:22:05.704537Z",
     "iopub.status.idle": "2024-01-21T15:22:05.722388Z",
     "shell.execute_reply": "2024-01-21T15:22:05.721413Z"
    },
    "papermill": {
     "duration": 0.045954,
     "end_time": "2024-01-21T15:22:05.724841",
     "exception": false,
     "start_time": "2024-01-21T15:22:05.678887",
     "status": "completed"
    },
    "tags": []
   },
   "outputs": [
    {
     "data": {
      "text/html": [
       "<div>\n",
       "<style scoped>\n",
       "    .dataframe tbody tr th:only-of-type {\n",
       "        vertical-align: middle;\n",
       "    }\n",
       "\n",
       "    .dataframe tbody tr th {\n",
       "        vertical-align: top;\n",
       "    }\n",
       "\n",
       "    .dataframe thead th {\n",
       "        text-align: right;\n",
       "    }\n",
       "</style>\n",
       "<table border=\"1\" class=\"dataframe\">\n",
       "  <thead>\n",
       "    <tr style=\"text-align: right;\">\n",
       "      <th></th>\n",
       "      <th>Word</th>\n",
       "      <th>Count</th>\n",
       "    </tr>\n",
       "  </thead>\n",
       "  <tbody>\n",
       "    <tr>\n",
       "      <th>0</th>\n",
       "      <td>bat</td>\n",
       "      <td>23</td>\n",
       "    </tr>\n",
       "    <tr>\n",
       "      <th>1</th>\n",
       "      <td>shrew</td>\n",
       "      <td>18</td>\n",
       "    </tr>\n",
       "    <tr>\n",
       "      <th>2</th>\n",
       "      <td>myotis</td>\n",
       "      <td>17</td>\n",
       "    </tr>\n",
       "    <tr>\n",
       "      <th>3</th>\n",
       "      <td>mouse</td>\n",
       "      <td>16</td>\n",
       "    </tr>\n",
       "    <tr>\n",
       "      <th>4</th>\n",
       "      <td>chipmunk</td>\n",
       "      <td>13</td>\n",
       "    </tr>\n",
       "    <tr>\n",
       "      <th>5</th>\n",
       "      <td>american</td>\n",
       "      <td>12</td>\n",
       "    </tr>\n",
       "    <tr>\n",
       "      <th>6</th>\n",
       "      <td>squirrel</td>\n",
       "      <td>12</td>\n",
       "    </tr>\n",
       "    <tr>\n",
       "      <th>7</th>\n",
       "      <td>eastern</td>\n",
       "      <td>11</td>\n",
       "    </tr>\n",
       "    <tr>\n",
       "      <th>8</th>\n",
       "      <td>vole</td>\n",
       "      <td>11</td>\n",
       "    </tr>\n",
       "    <tr>\n",
       "      <th>9</th>\n",
       "      <td>western</td>\n",
       "      <td>10</td>\n",
       "    </tr>\n",
       "  </tbody>\n",
       "</table>\n",
       "</div>"
      ],
      "text/plain": [
       "       Word  Count\n",
       "0       bat     23\n",
       "1     shrew     18\n",
       "2    myotis     17\n",
       "3     mouse     16\n",
       "4  chipmunk     13\n",
       "5  american     12\n",
       "6  squirrel     12\n",
       "7   eastern     11\n",
       "8      vole     11\n",
       "9   western     10"
      ]
     },
     "execution_count": 26,
     "metadata": {},
     "output_type": "execute_result"
    }
   ],
   "source": [
    "# Convert the flattened list to a pandas Series and use value_counts\n",
    "word_counts_series = pd.Series(res).value_counts()\n",
    "\n",
    "# Create a DataFrame from the Series and display the top 10\n",
    "top_words_df = pd.DataFrame({'Word': word_counts_series.index, 'Count': word_counts_series.values}).head(10)\n",
    "top_words_df"
   ]
  },
  {
   "cell_type": "markdown",
   "id": "19b48187",
   "metadata": {
    "papermill": {
     "duration": 0.023518,
     "end_time": "2024-01-21T15:22:05.773236",
     "exception": false,
     "start_time": "2024-01-21T15:22:05.749718",
     "status": "completed"
    },
    "tags": []
   },
   "source": [
    "In the data, there are several different scientific names for different types of bats.  The next task is to figure out which rows of `species` are referring to bats. A new column made up of boolean values will be created to check if `is_bat` is `True`."
   ]
  },
  {
   "cell_type": "code",
   "execution_count": 27,
   "id": "853bc312",
   "metadata": {
    "execution": {
     "iopub.execute_input": "2024-01-21T15:22:05.823173Z",
     "iopub.status.busy": "2024-01-21T15:22:05.822676Z",
     "iopub.status.idle": "2024-01-21T15:22:05.852378Z",
     "shell.execute_reply": "2024-01-21T15:22:05.851192Z"
    },
    "papermill": {
     "duration": 0.057941,
     "end_time": "2024-01-21T15:22:05.854909",
     "exception": false,
     "start_time": "2024-01-21T15:22:05.796968",
     "status": "completed"
    },
    "tags": []
   },
   "outputs": [
    {
     "data": {
      "text/html": [
       "<div>\n",
       "<style scoped>\n",
       "    .dataframe tbody tr th:only-of-type {\n",
       "        vertical-align: middle;\n",
       "    }\n",
       "\n",
       "    .dataframe tbody tr th {\n",
       "        vertical-align: top;\n",
       "    }\n",
       "\n",
       "    .dataframe thead th {\n",
       "        text-align: right;\n",
       "    }\n",
       "</style>\n",
       "<table border=\"1\" class=\"dataframe\">\n",
       "  <thead>\n",
       "    <tr style=\"text-align: right;\">\n",
       "      <th></th>\n",
       "      <th>category</th>\n",
       "      <th>scientific_name</th>\n",
       "      <th>common_names</th>\n",
       "      <th>conservation_status</th>\n",
       "      <th>is_protected</th>\n",
       "      <th>is_bat</th>\n",
       "    </tr>\n",
       "  </thead>\n",
       "  <tbody>\n",
       "    <tr>\n",
       "      <th>0</th>\n",
       "      <td>Mammal</td>\n",
       "      <td>Clethrionomys gapperi gapperi</td>\n",
       "      <td>Gapper's Red-Backed Vole</td>\n",
       "      <td>No Intervention</td>\n",
       "      <td>False</td>\n",
       "      <td>False</td>\n",
       "    </tr>\n",
       "    <tr>\n",
       "      <th>1</th>\n",
       "      <td>Mammal</td>\n",
       "      <td>Bos bison</td>\n",
       "      <td>American Bison, Bison</td>\n",
       "      <td>No Intervention</td>\n",
       "      <td>False</td>\n",
       "      <td>False</td>\n",
       "    </tr>\n",
       "    <tr>\n",
       "      <th>2</th>\n",
       "      <td>Mammal</td>\n",
       "      <td>Bos taurus</td>\n",
       "      <td>Aurochs, Aurochs, Domestic Cattle (Feral), Dom...</td>\n",
       "      <td>No Intervention</td>\n",
       "      <td>False</td>\n",
       "      <td>False</td>\n",
       "    </tr>\n",
       "    <tr>\n",
       "      <th>3</th>\n",
       "      <td>Mammal</td>\n",
       "      <td>Ovis aries</td>\n",
       "      <td>Domestic Sheep, Mouflon, Red Sheep, Sheep (Feral)</td>\n",
       "      <td>No Intervention</td>\n",
       "      <td>False</td>\n",
       "      <td>False</td>\n",
       "    </tr>\n",
       "    <tr>\n",
       "      <th>4</th>\n",
       "      <td>Mammal</td>\n",
       "      <td>Cervus elaphus</td>\n",
       "      <td>Wapiti Or Elk</td>\n",
       "      <td>No Intervention</td>\n",
       "      <td>False</td>\n",
       "      <td>False</td>\n",
       "    </tr>\n",
       "    <tr>\n",
       "      <th>5</th>\n",
       "      <td>Mammal</td>\n",
       "      <td>Odocoileus virginianus</td>\n",
       "      <td>White-Tailed Deer</td>\n",
       "      <td>No Intervention</td>\n",
       "      <td>False</td>\n",
       "      <td>False</td>\n",
       "    </tr>\n",
       "    <tr>\n",
       "      <th>6</th>\n",
       "      <td>Mammal</td>\n",
       "      <td>Sus scrofa</td>\n",
       "      <td>Feral Hog, Wild Pig</td>\n",
       "      <td>No Intervention</td>\n",
       "      <td>False</td>\n",
       "      <td>False</td>\n",
       "    </tr>\n",
       "    <tr>\n",
       "      <th>7</th>\n",
       "      <td>Mammal</td>\n",
       "      <td>Canis latrans</td>\n",
       "      <td>Coyote</td>\n",
       "      <td>Species of Concern</td>\n",
       "      <td>True</td>\n",
       "      <td>False</td>\n",
       "    </tr>\n",
       "    <tr>\n",
       "      <th>8</th>\n",
       "      <td>Mammal</td>\n",
       "      <td>Canis lupus</td>\n",
       "      <td>Gray Wolf</td>\n",
       "      <td>Endangered</td>\n",
       "      <td>True</td>\n",
       "      <td>False</td>\n",
       "    </tr>\n",
       "    <tr>\n",
       "      <th>9</th>\n",
       "      <td>Mammal</td>\n",
       "      <td>Canis rufus</td>\n",
       "      <td>Red Wolf</td>\n",
       "      <td>Endangered</td>\n",
       "      <td>True</td>\n",
       "      <td>False</td>\n",
       "    </tr>\n",
       "  </tbody>\n",
       "</table>\n",
       "</div>"
      ],
      "text/plain": [
       "  category                scientific_name  \\\n",
       "0   Mammal  Clethrionomys gapperi gapperi   \n",
       "1   Mammal                      Bos bison   \n",
       "2   Mammal                     Bos taurus   \n",
       "3   Mammal                     Ovis aries   \n",
       "4   Mammal                 Cervus elaphus   \n",
       "5   Mammal         Odocoileus virginianus   \n",
       "6   Mammal                     Sus scrofa   \n",
       "7   Mammal                  Canis latrans   \n",
       "8   Mammal                    Canis lupus   \n",
       "9   Mammal                    Canis rufus   \n",
       "\n",
       "                                        common_names conservation_status  \\\n",
       "0                           Gapper's Red-Backed Vole     No Intervention   \n",
       "1                              American Bison, Bison     No Intervention   \n",
       "2  Aurochs, Aurochs, Domestic Cattle (Feral), Dom...     No Intervention   \n",
       "3  Domestic Sheep, Mouflon, Red Sheep, Sheep (Feral)     No Intervention   \n",
       "4                                      Wapiti Or Elk     No Intervention   \n",
       "5                                  White-Tailed Deer     No Intervention   \n",
       "6                                Feral Hog, Wild Pig     No Intervention   \n",
       "7                                             Coyote  Species of Concern   \n",
       "8                                          Gray Wolf          Endangered   \n",
       "9                                           Red Wolf          Endangered   \n",
       "\n",
       "   is_protected  is_bat  \n",
       "0         False   False  \n",
       "1         False   False  \n",
       "2         False   False  \n",
       "3         False   False  \n",
       "4         False   False  \n",
       "5         False   False  \n",
       "6         False   False  \n",
       "7          True   False  \n",
       "8          True   False  \n",
       "9          True   False  "
      ]
     },
     "execution_count": 27,
     "metadata": {},
     "output_type": "execute_result"
    }
   ],
   "source": [
    "# Create 'is_bat' column with boolean values based on whether 'common_names' contains the word 'Bat'\n",
    "species['is_bat'] = species.common_names.str.contains(r\"\\bBat\\b\", case=False)\n",
    "\n",
    "# Display the first 10 rows of the DataFrame\n",
    "species.head(10)"
   ]
  },
  {
   "cell_type": "markdown",
   "id": "be1b5271",
   "metadata": {
    "papermill": {
     "duration": 0.024721,
     "end_time": "2024-01-21T15:22:05.903831",
     "exception": false,
     "start_time": "2024-01-21T15:22:05.879110",
     "status": "completed"
    },
    "tags": []
   },
   "source": [
    "Here is a subset of the data where `is_bat` is true, returning see the rows that matched. There seems to be a lot of species of bats and a mix of protected vs. non-protected species.\n",
    "\n",
    "##### Step 1: Filtering Bat Species\n",
    "\n",
    "This code creates a subset of the `species` DataFrame where the `is_bat` column is `True`, indicating that the species is related to bats."
   ]
  },
  {
   "cell_type": "code",
   "execution_count": 28,
   "id": "49c4e144",
   "metadata": {
    "execution": {
     "iopub.execute_input": "2024-01-21T15:22:05.956075Z",
     "iopub.status.busy": "2024-01-21T15:22:05.955680Z",
     "iopub.status.idle": "2024-01-21T15:22:05.961723Z",
     "shell.execute_reply": "2024-01-21T15:22:05.960422Z"
    },
    "papermill": {
     "duration": 0.034904,
     "end_time": "2024-01-21T15:22:05.964107",
     "exception": false,
     "start_time": "2024-01-21T15:22:05.929203",
     "status": "completed"
    },
    "tags": []
   },
   "outputs": [],
   "source": [
    "# Subset of the data where is_bat is true\n",
    "\n",
    "bat_species_subset = species[species.is_bat]"
   ]
  },
  {
   "cell_type": "markdown",
   "id": "c6d76cdc",
   "metadata": {
    "papermill": {
     "duration": 0.024427,
     "end_time": "2024-01-21T15:22:06.013166",
     "exception": false,
     "start_time": "2024-01-21T15:22:05.988739",
     "status": "completed"
    },
    "tags": []
   },
   "source": [
    "Next the results of the bat species will be merged with `observations` to create a `DataFrame` with observations of bats across the four national parks.\n",
    "\n",
    "##### Step 2: Merging Bat Species with Observations\n",
    "\n",
    "\n",
    "\n",
    "This code merges the subset of bat species (`bat_species_subset`) with the `observations` DataFrame based on the common column `scientific_name`. The result is a new DataFrame (`bat_observations`) that includes observations of bat species across the four national parks."
   ]
  },
  {
   "cell_type": "code",
   "execution_count": 29,
   "id": "b9ff55e3",
   "metadata": {
    "execution": {
     "iopub.execute_input": "2024-01-21T15:22:06.065042Z",
     "iopub.status.busy": "2024-01-21T15:22:06.064568Z",
     "iopub.status.idle": "2024-01-21T15:22:06.088142Z",
     "shell.execute_reply": "2024-01-21T15:22:06.086626Z"
    },
    "papermill": {
     "duration": 0.052279,
     "end_time": "2024-01-21T15:22:06.091054",
     "exception": false,
     "start_time": "2024-01-21T15:22:06.038775",
     "status": "completed"
    },
    "tags": []
   },
   "outputs": [],
   "source": [
    "# Merge bat species subset with observations\n",
    "\n",
    "bat_observations = observations.merge(bat_species_subset)"
   ]
  },
  {
   "cell_type": "markdown",
   "id": "e1a86bd0",
   "metadata": {
    "papermill": {
     "duration": 0.025197,
     "end_time": "2024-01-21T15:22:06.141645",
     "exception": false,
     "start_time": "2024-01-21T15:22:06.116448",
     "status": "completed"
    },
    "tags": []
   },
   "source": [
    "Let's see how many total bat observations(across all species) were made at each national park.\n",
    "\n",
    "##### Step 3: Counting Bat Observations by Park\n",
    "\n",
    "This code groups the `bat_observations` DataFrame by 'park_name' and calculates the sum of observations for each park. The result is a new DataFrame (`bat_observation_counts`) that shows the total number of bat observations for each national park.\n",
    "\n",
    "The total number of bats observed in each park over the past 7 days are in the table below. Yellowstone National Park seems to have the largest with 8,362 observations and the Great Smoky Mountains National Park having the lowest with 2,411."
   ]
  },
  {
   "cell_type": "code",
   "execution_count": 30,
   "id": "01fb6e90",
   "metadata": {
    "execution": {
     "iopub.execute_input": "2024-01-21T15:22:06.192401Z",
     "iopub.status.busy": "2024-01-21T15:22:06.191958Z",
     "iopub.status.idle": "2024-01-21T15:22:06.208283Z",
     "shell.execute_reply": "2024-01-21T15:22:06.206785Z"
    },
    "papermill": {
     "duration": 0.045149,
     "end_time": "2024-01-21T15:22:06.211144",
     "exception": false,
     "start_time": "2024-01-21T15:22:06.165995",
     "status": "completed"
    },
    "tags": []
   },
   "outputs": [
    {
     "data": {
      "text/html": [
       "<div>\n",
       "<style scoped>\n",
       "    .dataframe tbody tr th:only-of-type {\n",
       "        vertical-align: middle;\n",
       "    }\n",
       "\n",
       "    .dataframe tbody tr th {\n",
       "        vertical-align: top;\n",
       "    }\n",
       "\n",
       "    .dataframe thead th {\n",
       "        text-align: right;\n",
       "    }\n",
       "</style>\n",
       "<table border=\"1\" class=\"dataframe\">\n",
       "  <thead>\n",
       "    <tr style=\"text-align: right;\">\n",
       "      <th></th>\n",
       "      <th>park_name</th>\n",
       "      <th>observations</th>\n",
       "    </tr>\n",
       "  </thead>\n",
       "  <tbody>\n",
       "    <tr>\n",
       "      <th>0</th>\n",
       "      <td>Bryce National Park</td>\n",
       "      <td>3433</td>\n",
       "    </tr>\n",
       "    <tr>\n",
       "      <th>1</th>\n",
       "      <td>Great Smoky Mountains National Park</td>\n",
       "      <td>2411</td>\n",
       "    </tr>\n",
       "    <tr>\n",
       "      <th>2</th>\n",
       "      <td>Yellowstone National Park</td>\n",
       "      <td>8362</td>\n",
       "    </tr>\n",
       "    <tr>\n",
       "      <th>3</th>\n",
       "      <td>Yosemite National Park</td>\n",
       "      <td>4786</td>\n",
       "    </tr>\n",
       "  </tbody>\n",
       "</table>\n",
       "</div>"
      ],
      "text/plain": [
       "                             park_name  observations\n",
       "0                  Bryce National Park          3433\n",
       "1  Great Smoky Mountains National Park          2411\n",
       "2            Yellowstone National Park          8362\n",
       "3               Yosemite National Park          4786"
      ]
     },
     "execution_count": 30,
     "metadata": {},
     "output_type": "execute_result"
    }
   ],
   "source": [
    "# Total number of bats observed in each park over the past 7 days\n",
    "\n",
    "bat_observation_counts = bat_observations.groupby('park_name').observations.sum().reset_index()\n",
    "bat_observation_counts"
   ]
  },
  {
   "cell_type": "markdown",
   "id": "5a9a5d51",
   "metadata": {
    "papermill": {
     "duration": 0.024536,
     "end_time": "2024-01-21T15:22:06.260264",
     "exception": false,
     "start_time": "2024-01-21T15:22:06.235728",
     "status": "completed"
    },
    "tags": []
   },
   "source": [
    "Now let's see each park broken down by protected bats vs. non-protected bat sightings. It seems that every park except for the Great Smoky Mountains National Park has more sightings of protected bats than not. This could be considered a great sign for bats."
   ]
  },
  {
   "cell_type": "code",
   "execution_count": 31,
   "id": "539f92fb",
   "metadata": {
    "execution": {
     "iopub.execute_input": "2024-01-21T15:22:06.311785Z",
     "iopub.status.busy": "2024-01-21T15:22:06.311371Z",
     "iopub.status.idle": "2024-01-21T15:22:06.329390Z",
     "shell.execute_reply": "2024-01-21T15:22:06.328020Z"
    },
    "papermill": {
     "duration": 0.046776,
     "end_time": "2024-01-21T15:22:06.331674",
     "exception": false,
     "start_time": "2024-01-21T15:22:06.284898",
     "status": "completed"
    },
    "tags": []
   },
   "outputs": [
    {
     "data": {
      "text/html": [
       "<div>\n",
       "<style scoped>\n",
       "    .dataframe tbody tr th:only-of-type {\n",
       "        vertical-align: middle;\n",
       "    }\n",
       "\n",
       "    .dataframe tbody tr th {\n",
       "        vertical-align: top;\n",
       "    }\n",
       "\n",
       "    .dataframe thead th {\n",
       "        text-align: right;\n",
       "    }\n",
       "</style>\n",
       "<table border=\"1\" class=\"dataframe\">\n",
       "  <thead>\n",
       "    <tr style=\"text-align: right;\">\n",
       "      <th></th>\n",
       "      <th>park_name</th>\n",
       "      <th>is_protected</th>\n",
       "      <th>observations</th>\n",
       "    </tr>\n",
       "  </thead>\n",
       "  <tbody>\n",
       "    <tr>\n",
       "      <th>0</th>\n",
       "      <td>Bryce National Park</td>\n",
       "      <td>False</td>\n",
       "      <td>1596</td>\n",
       "    </tr>\n",
       "    <tr>\n",
       "      <th>1</th>\n",
       "      <td>Bryce National Park</td>\n",
       "      <td>True</td>\n",
       "      <td>1837</td>\n",
       "    </tr>\n",
       "    <tr>\n",
       "      <th>2</th>\n",
       "      <td>Great Smoky Mountains National Park</td>\n",
       "      <td>False</td>\n",
       "      <td>1299</td>\n",
       "    </tr>\n",
       "    <tr>\n",
       "      <th>3</th>\n",
       "      <td>Great Smoky Mountains National Park</td>\n",
       "      <td>True</td>\n",
       "      <td>1112</td>\n",
       "    </tr>\n",
       "    <tr>\n",
       "      <th>4</th>\n",
       "      <td>Yellowstone National Park</td>\n",
       "      <td>False</td>\n",
       "      <td>4044</td>\n",
       "    </tr>\n",
       "    <tr>\n",
       "      <th>5</th>\n",
       "      <td>Yellowstone National Park</td>\n",
       "      <td>True</td>\n",
       "      <td>4318</td>\n",
       "    </tr>\n",
       "    <tr>\n",
       "      <th>6</th>\n",
       "      <td>Yosemite National Park</td>\n",
       "      <td>False</td>\n",
       "      <td>2345</td>\n",
       "    </tr>\n",
       "    <tr>\n",
       "      <th>7</th>\n",
       "      <td>Yosemite National Park</td>\n",
       "      <td>True</td>\n",
       "      <td>2441</td>\n",
       "    </tr>\n",
       "  </tbody>\n",
       "</table>\n",
       "</div>"
      ],
      "text/plain": [
       "                             park_name  is_protected  observations\n",
       "0                  Bryce National Park         False          1596\n",
       "1                  Bryce National Park          True          1837\n",
       "2  Great Smoky Mountains National Park         False          1299\n",
       "3  Great Smoky Mountains National Park          True          1112\n",
       "4            Yellowstone National Park         False          4044\n",
       "5            Yellowstone National Park          True          4318\n",
       "6               Yosemite National Park         False          2345\n",
       "7               Yosemite National Park          True          2441"
      ]
     },
     "execution_count": 31,
     "metadata": {},
     "output_type": "execute_result"
    }
   ],
   "source": [
    "# Grouping bat observations by park and is_protected, then summing up observations\n",
    "\n",
    "obs_by_park = bat_observations.groupby(['park_name','is_protected']).observations.sum().reset_index()\n",
    "obs_by_park"
   ]
  },
  {
   "cell_type": "markdown",
   "id": "3fe6ee0b",
   "metadata": {
    "papermill": {
     "duration": 0.024349,
     "end_time": "2024-01-21T15:22:06.380655",
     "exception": false,
     "start_time": "2024-01-21T15:22:06.356306",
     "status": "completed"
    },
    "tags": []
   },
   "source": [
    "Below is a plot from the output of the last data manipulation. From this chart one can see that Yellowstone and Bryce National Parks seem to be doing a great job with their bat populations since there are more sightings of protected bats compared to non-protected species. The Great Smoky Mountains National Park might need to beef up there efforts in conservation as they have seen more non-protected species."
   ]
  },
  {
   "cell_type": "code",
   "execution_count": 32,
   "id": "8dd506e9",
   "metadata": {
    "execution": {
     "iopub.execute_input": "2024-01-21T15:22:06.434370Z",
     "iopub.status.busy": "2024-01-21T15:22:06.433895Z",
     "iopub.status.idle": "2024-01-21T15:22:06.801829Z",
     "shell.execute_reply": "2024-01-21T15:22:06.800413Z"
    },
    "papermill": {
     "duration": 0.39779,
     "end_time": "2024-01-21T15:22:06.804789",
     "exception": false,
     "start_time": "2024-01-21T15:22:06.406999",
     "status": "completed"
    },
    "tags": []
   },
   "outputs": [
    {
     "data": {
      "image/png": "[encoded data removed]",
      "text/plain": [
       "<Figure size 1600x400 with 1 Axes>"
      ]
     },
     "metadata": {},
     "output_type": "display_data"
    }
   ],
   "source": [
    "plt.figure(figsize=(16,4))\n",
    "sns.barplot(x=obs_by_park.park_name, y=obs_by_park.observations, hue=obs_by_park.is_protected)\n",
    "plt.xlabel(\"National Parks\")\n",
    "plt.ylabel(\"Number of Observations\")\n",
    "plt.title(\"Observation of Bats per Week\")\n",
    "plt.show()"
   ]
  },
  {
   "cell_type": "markdown",
   "id": "801818ee",
   "metadata": {
    "papermill": {
     "duration": 0.026082,
     "end_time": "2024-01-21T15:22:06.857040",
     "exception": false,
     "start_time": "2024-01-21T15:22:06.830958",
     "status": "completed"
    },
    "tags": []
   },
   "source": [
    "##### Let's review the findings based on the analysis we've conducted:\n",
    "\n",
    "### 1. What is the distribution of conservation status for species?\n",
    "\n",
    "The distribution of conservation status for species is as follows:\n",
    "\n",
    "- **Endangered:** 16 species\n",
    "- **In Recovery:** 4 species\n",
    "- **Species of Concern:** 161 species\n",
    "- **Threatened:** 10 species\n",
    "- **No Intervention:** 5,633 species\n",
    " ##### -  *i.e. The vast majority of species were not part of conservation.(5,633 vs 191)*\n",
    "\n",
    "### 2. Are certain types of species more likely to be endangered?\n",
    "\n",
    "By exploring the distribution of conservation status across different species categories, we found that certain categories have a higher likelihood of being endangered. For example:\n",
    "\n",
    "- **Mammals:** 7 endangered species\n",
    "- **Birds:** 4 endangered species\n",
    "- **Amphibians:** 1 endangered species\n",
    " ##### - *i.e. Mammals and Birds has the highest percentage of being in protection.*\n",
    "\n",
    "### 3. Are the differences between species and their conservation status significant?\n",
    "\n",
    "The chi-squared test was performed to assess the statistical significance of differences in conservation status rates between mammals and birds. The p-value obtained from the test was approximately 0.69, suggesting that there is no significant difference in conservation status rates between these two groups. Therefore, While mammals and Birds did not have significant difference in conservation percentage, mammals and reptiles exhibited a statistically significant difference.\n",
    "\n",
    "### 4. Which animal is most prevalent, and what is their distribution amongst parks?\n",
    "\n",
    "By analyzing bat observations, it was found that bats are prevalent, and their distribution among parks varies. Yellowstone and Bryce National Parks show more sightings of protected bats compared to non-protected ones, indicating potential success in conservation efforts. The Great Smoky Mountains National Park has a higher number of non-protected species, suggesting a need for conservation efforts.\n",
    "\n",
    "## Conclusion:\n",
    "\n",
    "- The distribution of conservation status varies across species categories.\n",
    "- Certain categories, such as mammals and birds, are more likely to be endangered.\n",
    "- The differences in conservation status rates between mammals and birds are not statistically significant.\n",
    "- Bats are prevalent, and their distribution among parks suggests varying levels of success in conservation efforts.\n",
    "\n",
    "Overall, the analysis provides valuable insights into the conservation status of species and the effectiveness of conservation efforts in different national parks."
   ]
  },
  {
   "cell_type": "markdown",
   "id": "4a28c5fd",
   "metadata": {
    "papermill": {
     "duration": 0.027967,
     "end_time": "2024-01-21T15:22:06.911242",
     "exception": false,
     "start_time": "2024-01-21T15:22:06.883275",
     "status": "completed"
    },
    "tags": []
   },
   "source": [
    "## Further Research \n",
    "\n",
    "This dataset only included observations from the last 7 days which prohibits analyze changes over time. It would be curious to see how the conservation status for various species changes over time. Another piece that is missing is the Area of each park, it can be assumed that Yellowstone National Park might be much larger than the other parks which would mean that it would exhibit more observations and greater biodiversity. Lastly, if precise locations were recorded, the spatial distribution of the species could also be observed and test if these observations are spatially clustered."
   ]
  }
 ],
 "metadata": {
  "kaggle": {
   "accelerator": "none",
   "dataSources": [
    {
     "datasetId": 4325593,
     "sourceId": 7433042,
     "sourceType": "datasetVersion"
    }
   ],
   "dockerImageVersionId": 30635,
   "isGpuEnabled": false,
   "isInternetEnabled": true,
   "language": "python",
   "sourceType": "notebook"
  },
  "kernelspec": {
   "display_name": "Python 3",
   "language": "python",
   "name": "python3"
  },
  "language_info": {
   "codemirror_mode": {
    "name": "ipython",
    "version": 3
   },
   "file_extension": ".py",
   "mimetype": "text/x-python",
   "name": "python",
   "nbconvert_exporter": "python",
   "pygments_lexer": "ipython3",
   "version": "3.10.12"
  },
  "papermill": {
   "default_parameters": {},
   "duration": 11.615902,
   "end_time": "2024-01-21T15:22:07.563607",
   "environment_variables": {},
   "exception": null,
   "input_path": "__notebook__.ipynb",
   "output_path": "__notebook__.ipynb",
   "parameters": {},
   "start_time": "2024-01-21T15:21:55.947705",
   "version": "2.4.0"
  }
 },
 "nbformat": 4,
 "nbformat_minor": 5
}
